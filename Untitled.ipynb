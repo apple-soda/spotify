{
 "cells": [
  {
   "cell_type": "code",
   "execution_count": 1,
   "id": "57132a9b-595c-4189-bca5-b19faa0d8613",
   "metadata": {},
   "outputs": [],
   "source": [
    "import requests\n",
    "import matplotlib.pyplot as plt\n",
    "import numpy as np"
   ]
  },
  {
   "cell_type": "code",
   "execution_count": 15,
   "id": "8f8fc448-9bb6-40c7-903e-af6db23cf2a8",
   "metadata": {},
   "outputs": [
    {
     "data": {
      "text/plain": [
       "<Figure size 640x480 with 0 Axes>"
      ]
     },
     "metadata": {},
     "output_type": "display_data"
    }
   ],
   "source": [
    "fig = plt.figure()"
   ]
  },
  {
   "cell_type": "code",
   "execution_count": 19,
   "id": "b3b37509-bf25-4f1b-a1e9-aae7fb1c4a48",
   "metadata": {},
   "outputs": [
    {
     "data": {
      "image/png": "[encoded data removed]",
      "text/plain": [
       "<Figure size 640x480 with 1 Axes>"
      ]
     },
     "metadata": {},
     "output_type": "display_data"
    }
   ],
   "source": [
    "from matplotlib import pyplot as plt\n",
    "import numpy as np\n",
    "from matplotlib.animation import FuncAnimation \n",
    "   \n",
    "# initializing a figure in \n",
    "# which the graph will be plotted\n",
    "fig = plt.figure() \n",
    "   \n",
    "# marking the x-axis and y-axis\n",
    "axis = plt.axes(xlim =(0, 4), \n",
    "                ylim =(-2, 2)) \n",
    "  \n",
    "# initializing a line variable\n",
    "line, = axis.plot([], [], lw = 3) \n",
    "   \n",
    "# data which the line will \n",
    "# contain (x, y)\n",
    "def init(): \n",
    "    line.set_data([], [])\n",
    "    return line,\n",
    "   \n",
    "def animate(i):\n",
    "    x = np.linspace(0, 4, 1000)\n",
    "   \n",
    "    # plots a sine graph\n",
    "    y = np.sin(2 * np.pi * (x - 0.01 * i))\n",
    "    line.set_data(x, y)\n",
    "      \n",
    "    return line,\n",
    "   \n",
    "anim = FuncAnimation(fig, animate, init_func = init,\n",
    "                     frames = 200, interval = 20, blit = True)"
   ]
  },
  {
   "cell_type": "code",
   "execution_count": 35,
   "id": "b76350bf-af46-40b9-9aab-a0c280ab344b",
   "metadata": {},
   "outputs": [],
   "source": [
    "CLIENT_ID = '9bc3dea17d8e4cb98694606b0bd7c618'\n",
    "CLIENT_SECRET = 'a8c34b47f88940e498031d554aa96430'\n",
    "AUTH_URL = 'https://accounts.spotify.com/api/token'\n",
    "BASE_URL = 'https://api.spotify.com/v1/'\n",
    "\n",
    "\n",
    "# POST\n",
    "auth_response = requests.post(AUTH_URL, {\n",
    "    'grant_type': 'client_credentials',\n",
    "    'client_id': CLIENT_ID,\n",
    "    'client_secret': CLIENT_SECRET,\n",
    "})\n",
    "\n",
    "auth_response_data = auth_response.json()\n",
    "access_token = auth_response_data['access_token']\n",
    "\n",
    "\n",
    "headers = {\n",
    "    'Authorization': 'Bearer {token}'.format(token=access_token)\n",
    "}"
   ]
  },
  {
   "cell_type": "code",
   "execution_count": 36,
   "id": "7dd37b15-a34b-43b0-8006-baf176097301",
   "metadata": {},
   "outputs": [],
   "source": [
    "s = 'https://open.spotify.com/playlist/5gWcP3FX9mqscqih6K7ig5?si=89c372d06cf44cb9'\n",
    "track_id = s.split('/')[-1].split('?')[0]"
   ]
  },
  {
   "cell_type": "code",
   "execution_count": 37,
   "id": "83680c37-6f42-4b06-ac2c-e3a14119af3d",
   "metadata": {},
   "outputs": [
    {
     "data": {
      "text/plain": [
       "'5gWcP3FX9mqscqih6K7ig5'"
      ]
     },
     "execution_count": 37,
     "metadata": {},
     "output_type": "execute_result"
    }
   ],
   "source": [
    "track_id"
   ]
  },
  {
   "cell_type": "code",
   "execution_count": 43,
   "id": "946dfc88-e4d9-41b6-8ec2-ce3f4c18ad94",
   "metadata": {},
   "outputs": [],
   "source": [
    "r = requests.get(\n",
    "        BASE_URL + 'playlists/' + '5gWcP3FX9mqscqih6K7ig5?si=89c372d06cf44cb9',\n",
    "        headers=headers,\n",
    "        params={'offset': 0}\n",
    "    )"
   ]
  },
  {
   "cell_type": "code",
   "execution_count": 44,
   "id": "139aae98-19cd-4436-8f17-74f4150ccde3",
   "metadata": {},
   "outputs": [],
   "source": [
    "d = r.json()"
   ]
  },
  {
   "cell_type": "code",
   "execution_count": 45,
   "id": "2322c46d-d74c-481b-9ad9-7d6481e7ff4c",
   "metadata": {},
   "outputs": [
    {
     "data": {
      "text/plain": [
       "dict_keys(['collaborative', 'description', 'external_urls', 'followers', 'href', 'id', 'images', 'name', 'owner', 'primary_color', 'public', 'snapshot_id', 'tracks', 'type', 'uri'])"
      ]
     },
     "execution_count": 45,
     "metadata": {},
     "output_type": "execute_result"
    }
   ],
   "source": [
    "d.keys()"
   ]
  },
  {
   "cell_type": "code",
   "execution_count": 46,
   "id": "e327bf34-0db6-4cd3-92b0-3dcdf933687c",
   "metadata": {},
   "outputs": [
    {
     "data": {
      "text/plain": [
       "\"shootah's hall of fame\""
      ]
     },
     "execution_count": 46,
     "metadata": {},
     "output_type": "execute_result"
    }
   ],
   "source": [
    "d['name']"
   ]
  },
  {
   "cell_type": "code",
   "execution_count": 11,
   "id": "576373a7-b83d-48f2-a7f8-e87e1bd21f03",
   "metadata": {},
   "outputs": [],
   "source": [
    "def get_album_count(master_list):\n",
    "    # ['track']['album']['name'] : album name\n",
    "    # ['track']['album']['images'][0] : album image\n",
    "    albums = {}\n",
    "    for i in master_list:\n",
    "        an = i['track']['album']['name']\n",
    "        if an in albums:\n",
    "            albums[an][0] += 1\n",
    "        else:\n",
    "            album_cover = i['track']['album']['images'][0]\n",
    "            albums[an] = [1, album_cover]\n",
    "        \n",
    "    return dict(sorted(albums.items(), key=lambda item: item[1][0]))"
   ]
  },
  {
   "cell_type": "code",
   "execution_count": 12,
   "id": "52b12cb8-aa9f-42fa-8b33-4314dcff806e",
   "metadata": {},
   "outputs": [],
   "source": [
    "ml = list(d['items'])"
   ]
  },
  {
   "cell_type": "code",
   "execution_count": 13,
   "id": "2c44908b-a8a9-40cc-8687-9be372ae2df2",
   "metadata": {},
   "outputs": [],
   "source": [
    "ac = get_album_count(ml)"
   ]
  },
  {
   "cell_type": "code",
   "execution_count": 30,
   "id": "deb32d7e-4186-4d94-859f-e7ea8cc085d7",
   "metadata": {},
   "outputs": [],
   "source": [
    "lol = [i[1]['url'] for i in list(ac.values())[-5:][::-1]]"
   ]
  },
  {
   "cell_type": "code",
   "execution_count": 29,
   "id": "ffe3e708-4f91-45c9-bc8d-d3f9f79bedf8",
   "metadata": {},
   "outputs": [
    {
     "ename": "TypeError",
     "evalue": "'int' object is not subscriptable",
     "output_type": "error",
     "traceback": [
      "\u001b[0;31m---------------------------------------------------------------------------\u001b[0m",
      "\u001b[0;31mTypeError\u001b[0m                                 Traceback (most recent call last)",
      "Input \u001b[0;32mIn [29]\u001b[0m, in \u001b[0;36m<cell line: 1>\u001b[0;34m()\u001b[0m\n\u001b[0;32m----> 1\u001b[0m lol2 \u001b[38;5;241m=\u001b[39m [i[\u001b[38;5;241m0\u001b[39m][\u001b[38;5;124m'\u001b[39m\u001b[38;5;124murl\u001b[39m\u001b[38;5;124m'\u001b[39m] \u001b[38;5;28;01mfor\u001b[39;00m i \u001b[38;5;129;01min\u001b[39;00m \u001b[38;5;28mlist\u001b[39m(ac\u001b[38;5;241m.\u001b[39mvalues())[\u001b[38;5;241m-\u001b[39m\u001b[38;5;241m5\u001b[39m:][::\u001b[38;5;241m-\u001b[39m\u001b[38;5;241m1\u001b[39m]]\n",
      "Input \u001b[0;32mIn [29]\u001b[0m, in \u001b[0;36m<listcomp>\u001b[0;34m(.0)\u001b[0m\n\u001b[0;32m----> 1\u001b[0m lol2 \u001b[38;5;241m=\u001b[39m [\u001b[43mi\u001b[49m\u001b[43m[\u001b[49m\u001b[38;5;241;43m0\u001b[39;49m\u001b[43m]\u001b[49m\u001b[43m[\u001b[49m\u001b[38;5;124;43m'\u001b[39;49m\u001b[38;5;124;43murl\u001b[39;49m\u001b[38;5;124;43m'\u001b[39;49m\u001b[43m]\u001b[49m \u001b[38;5;28;01mfor\u001b[39;00m i \u001b[38;5;129;01min\u001b[39;00m \u001b[38;5;28mlist\u001b[39m(ac\u001b[38;5;241m.\u001b[39mvalues())[\u001b[38;5;241m-\u001b[39m\u001b[38;5;241m5\u001b[39m:][::\u001b[38;5;241m-\u001b[39m\u001b[38;5;241m1\u001b[39m]]\n",
      "\u001b[0;31mTypeError\u001b[0m: 'int' object is not subscriptable"
     ]
    }
   ],
   "source": [
    "lol2 = [i[0]['url'] for i in list(ac.values())[-5:][::-1]]"
   ]
  },
  {
   "cell_type": "code",
   "execution_count": 31,
   "id": "016f97b6-7fe1-486d-a555-f548185e3828",
   "metadata": {},
   "outputs": [
    {
     "data": {
      "text/plain": [
       "['https://i.scdn.co/image/ab67616d0000b273f7db43292a6a99b21b51d5b4',\n",
       " 'https://i.scdn.co/image/ab67616d0000b2733e0698e4ae5ffb82a005aeeb',\n",
       " 'https://i.scdn.co/image/ab67616d0000b273bd69bbde4aeee723d6d08058',\n",
       " 'https://i.scdn.co/image/ab67616d0000b2732026d0048432d395f6f715b5',\n",
       " 'https://i.scdn.co/image/ab67616d0000b273644c510e8d4c02ae69028297']"
      ]
     },
     "execution_count": 31,
     "metadata": {},
     "output_type": "execute_result"
    }
   ],
   "source": [
    "lol"
   ]
  },
  {
   "cell_type": "code",
   "execution_count": null,
   "id": "6102b6d5-d93c-4cb0-bb43-b129c4afc276",
   "metadata": {},
   "outputs": [],
   "source": []
  }
 ],
 "metadata": {
  "kernelspec": {
   "display_name": "Python 3 (ipykernel)",
   "language": "python",
   "name": "python3"
  },
  "language_info": {
   "codemirror_mode": {
    "name": "ipython",
    "version": 3
   },
   "file_extension": ".py",
   "mimetype": "text/x-python",
   "name": "python",
   "nbconvert_exporter": "python",
   "pygments_lexer": "ipython3",
   "version": "3.8.13"
  }
 },
 "nbformat": 4,
 "nbformat_minor": 5
}
